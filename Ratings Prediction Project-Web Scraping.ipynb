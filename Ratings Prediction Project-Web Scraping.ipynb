{
 "cells": [
  {
   "cell_type": "markdown",
   "id": "305f15e1",
   "metadata": {},
   "source": [
    "# RATINGS PREDICTION PROJECT"
   ]
  },
  {
   "cell_type": "code",
   "execution_count": 1,
   "id": "b47c881c",
   "metadata": {},
   "outputs": [],
   "source": [
    "#Importing required libraries\n",
    "\n",
    "import selenium\n",
    "import pandas as pd\n",
    "import time\n",
    "import requests\n",
    "from bs4 import BeautifulSoup\n",
    "from selenium import webdriver\n",
    "from selenium.common.exceptions import NoSuchElementException\n",
    "from selenium.webdriver.common.keys import Keys\n",
    "from selenium.webdriver.common.action_chains import ActionChains\n",
    "from selenium.webdriver.support.ui import WebDriverWait\n",
    "from selenium.webdriver.support import expected_conditions as EC\n",
    "from selenium.webdriver.common.by import By"
   ]
  },
  {
   "cell_type": "markdown",
   "id": "ab527eb1",
   "metadata": {},
   "source": [
    "Scraping Reviews and Ratings from Flipkart"
   ]
  },
  {
   "cell_type": "code",
   "execution_count": 13,
   "id": "979ef258",
   "metadata": {},
   "outputs": [],
   "source": [
    "driver=webdriver.Chrome(\"chromedriver.exe\")\n",
    "driver.maximize_window()\n",
    "time.sleep(3)"
   ]
  },
  {
   "cell_type": "code",
   "execution_count": 14,
   "id": "287750cc",
   "metadata": {},
   "outputs": [],
   "source": [
    "url = \"https://www.flipkart.com/\"\n",
    "driver.get(url)\n",
    "driver.find_element_by_xpath(\"//div[@class='_2QfC02']/button\").click()"
   ]
  },
  {
   "cell_type": "code",
   "execution_count": 15,
   "id": "a5b11b82",
   "metadata": {},
   "outputs": [],
   "source": [
    "srch_items = ['laptops', 'Phones','smart watches','Headphones','Monitors','professional cameras','printers','Home theater','router']"
   ]
  },
  {
   "cell_type": "code",
   "execution_count": 16,
   "id": "dc99c6ca",
   "metadata": {},
   "outputs": [],
   "source": [
    "title = []\n",
    "review_text = []\n",
    "ratings = []\n",
    "\n",
    "def scrape():    \n",
    "        for i in driver.find_elements_by_xpath(\"//div[@class='t-ZTKy']\"):\n",
    "            review_text.append(i.text)\n",
    "        for i in driver.find_elements_by_xpath(\"//p[@class='_2-N8zT']\"):\n",
    "            title.append(i.text)\n",
    "        for i in driver.find_elements_by_xpath(\"//p[@class='_2-N8zT']/../div\"):\n",
    "            ratings.append(i.text)\n",
    "        return"
   ]
  },
  {
   "cell_type": "code",
   "execution_count": 17,
   "id": "a5e0de9f",
   "metadata": {},
   "outputs": [],
   "source": [
    "urls=[]\n",
    "for i in srch_items:\n",
    "    \n",
    "    #Locating search bar\n",
    "    \n",
    "    srchBar = driver.find_element_by_xpath(\"//div[@class='_3OO5Xc']/input\")\n",
    "    srchBar.clear()\n",
    "    srchBar.send_keys(i)\n",
    "    \n",
    "    #clicking on search button\n",
    "    \n",
    "    driver.find_element_by_xpath(\"//button[@class='L0Z3Pu']\").click()\n",
    "    time.sleep(3)\n",
    "    page = []\n",
    "    for i in driver.find_elements_by_xpath(\"//nav[@class='yFHi8N']/a\"):\n",
    "        page.append(i.get_attribute('href'))\n",
    "    for i in page[0:6]:\n",
    "        driver.get(i)\n",
    "        time.sleep(3)\n",
    "        items = driver.find_elements_by_xpath(\"//a[@class='_1fQZEK']\")\n",
    "        for i in items:\n",
    "            urls.append(i.get_attribute('href'))"
   ]
  },
  {
   "cell_type": "code",
   "execution_count": 18,
   "id": "1c3e99f1",
   "metadata": {},
   "outputs": [
    {
     "data": {
      "text/plain": [
       "576"
      ]
     },
     "execution_count": 18,
     "metadata": {},
     "output_type": "execute_result"
    }
   ],
   "source": [
    "len(urls)"
   ]
  },
  {
   "cell_type": "code",
   "execution_count": 19,
   "id": "d4b34de4",
   "metadata": {},
   "outputs": [],
   "source": [
    "for i in urls:\n",
    "    driver.get(i)\n",
    "    time.sleep(2)\n",
    "    for _ in range(2):\n",
    "        driver.execute_script(\"window.scrollBy(0,6000)\")\n",
    "        time.sleep(1)\n",
    "        \n",
    "        #clicking on all reviews\n",
    "    \n",
    "    try:\n",
    "        btn=driver.find_element_by_xpath(\"//div[@class='_2c2kV-']/following::a\")\n",
    "        lnk = btn.get_attribute('href')\n",
    "        driver.get(lnk)\n",
    "        time.sleep(1)\n",
    "    except NoSuchElementException:\n",
    "        pass\n",
    "\n",
    "    scrape()        \n",
    "    try:\n",
    "        n_page=driver.find_elements_by_xpath(\"//nav[@class='yFHi8N']/a\")\n",
    "        np=[]\n",
    "        for i in n_page:\n",
    "            np.append(i.get_attribute('href'))\n",
    "        for i in np[0:18]:\n",
    "            driver.get(i)\n",
    "            time.sleep(1)\n",
    "            scrape()\n",
    "    except: continue"
   ]
  },
  {
   "cell_type": "code",
   "execution_count": 20,
   "id": "0a31746b",
   "metadata": {},
   "outputs": [
    {
     "data": {
      "text/plain": [
       "(38851, 38851, 38851)"
      ]
     },
     "execution_count": 20,
     "metadata": {},
     "output_type": "execute_result"
    }
   ],
   "source": [
    "len(ratings), len(review_text), len(title)"
   ]
  },
  {
   "cell_type": "code",
   "execution_count": 21,
   "id": "a3dde203",
   "metadata": {},
   "outputs": [
    {
     "data": {
      "text/html": [
       "<div>\n",
       "<style scoped>\n",
       "    .dataframe tbody tr th:only-of-type {\n",
       "        vertical-align: middle;\n",
       "    }\n",
       "\n",
       "    .dataframe tbody tr th {\n",
       "        vertical-align: top;\n",
       "    }\n",
       "\n",
       "    .dataframe thead th {\n",
       "        text-align: right;\n",
       "    }\n",
       "</style>\n",
       "<table border=\"1\" class=\"dataframe\">\n",
       "  <thead>\n",
       "    <tr style=\"text-align: right;\">\n",
       "      <th></th>\n",
       "      <th>Review_Title</th>\n",
       "      <th>Review_Text</th>\n",
       "      <th>Rating</th>\n",
       "    </tr>\n",
       "  </thead>\n",
       "  <tbody>\n",
       "    <tr>\n",
       "      <th>0</th>\n",
       "      <td>Brilliant</td>\n",
       "      <td>Writing review after 15 day of use.It is absol...</td>\n",
       "      <td>5</td>\n",
       "    </tr>\n",
       "    <tr>\n",
       "      <th>1</th>\n",
       "      <td>Delightful</td>\n",
       "      <td>This is thing I want to be...It s worked suprb...</td>\n",
       "      <td>4</td>\n",
       "    </tr>\n",
       "    <tr>\n",
       "      <th>2</th>\n",
       "      <td>Terrific</td>\n",
       "      <td>Great product... happy with the purchase</td>\n",
       "      <td>5</td>\n",
       "    </tr>\n",
       "    <tr>\n",
       "      <th>3</th>\n",
       "      <td>Nice product</td>\n",
       "      <td>Must buy product .Value for money</td>\n",
       "      <td>4</td>\n",
       "    </tr>\n",
       "    <tr>\n",
       "      <th>4</th>\n",
       "      <td>Fabulous!</td>\n",
       "      <td>Bought for basic usage like surfing web and wa...</td>\n",
       "      <td>5</td>\n",
       "    </tr>\n",
       "    <tr>\n",
       "      <th>...</th>\n",
       "      <td>...</td>\n",
       "      <td>...</td>\n",
       "      <td>...</td>\n",
       "    </tr>\n",
       "    <tr>\n",
       "      <th>38846</th>\n",
       "      <td>Classy product</td>\n",
       "      <td>Emulated HDR I feel of no use.sound is little ...</td>\n",
       "      <td>5</td>\n",
       "    </tr>\n",
       "    <tr>\n",
       "      <th>38847</th>\n",
       "      <td>Terrific</td>\n",
       "      <td>Best monitor but delivery it's to late</td>\n",
       "      <td>5</td>\n",
       "    </tr>\n",
       "    <tr>\n",
       "      <th>38848</th>\n",
       "      <td>Great product</td>\n",
       "      <td>Excellent monitor. Initially I was little hesi...</td>\n",
       "      <td>5</td>\n",
       "    </tr>\n",
       "    <tr>\n",
       "      <th>38849</th>\n",
       "      <td>Really Nice</td>\n",
       "      <td>Nice product</td>\n",
       "      <td>4</td>\n",
       "    </tr>\n",
       "    <tr>\n",
       "      <th>38850</th>\n",
       "      <td>Perfect product!</td>\n",
       "      <td>HDRi button given separately for enhance the m...</td>\n",
       "      <td>5</td>\n",
       "    </tr>\n",
       "  </tbody>\n",
       "</table>\n",
       "<p>38851 rows × 3 columns</p>\n",
       "</div>"
      ],
      "text/plain": [
       "           Review_Title                                        Review_Text  \\\n",
       "0             Brilliant  Writing review after 15 day of use.It is absol...   \n",
       "1            Delightful  This is thing I want to be...It s worked suprb...   \n",
       "2              Terrific           Great product... happy with the purchase   \n",
       "3          Nice product                  Must buy product .Value for money   \n",
       "4             Fabulous!  Bought for basic usage like surfing web and wa...   \n",
       "...                 ...                                                ...   \n",
       "38846    Classy product  Emulated HDR I feel of no use.sound is little ...   \n",
       "38847          Terrific             Best monitor but delivery it's to late   \n",
       "38848     Great product  Excellent monitor. Initially I was little hesi...   \n",
       "38849       Really Nice                                       Nice product   \n",
       "38850  Perfect product!  HDRi button given separately for enhance the m...   \n",
       "\n",
       "      Rating  \n",
       "0          5  \n",
       "1          4  \n",
       "2          5  \n",
       "3          4  \n",
       "4          5  \n",
       "...      ...  \n",
       "38846      5  \n",
       "38847      5  \n",
       "38848      5  \n",
       "38849      4  \n",
       "38850      5  \n",
       "\n",
       "[38851 rows x 3 columns]"
      ]
     },
     "execution_count": 21,
     "metadata": {},
     "output_type": "execute_result"
    }
   ],
   "source": [
    "df1 = pd.DataFrame({})\n",
    "\n",
    "df1[\"Review_Title\"] = title\n",
    "df1[\"Review_Text\"] = review_text\n",
    "df1[\"Rating\"] = ratings\n",
    "\n",
    "df1"
   ]
  },
  {
   "cell_type": "code",
   "execution_count": 22,
   "id": "2a52a119",
   "metadata": {},
   "outputs": [],
   "source": [
    "df1.to_csv(\"Flipkart_Ratings_Prediction.csv\")"
   ]
  },
  {
   "cell_type": "code",
   "execution_count": null,
   "id": "01e4b967",
   "metadata": {},
   "outputs": [],
   "source": []
  },
  {
   "cell_type": "code",
   "execution_count": null,
   "id": "5add9e07",
   "metadata": {},
   "outputs": [],
   "source": []
  }
 ],
 "metadata": {
  "kernelspec": {
   "display_name": "Python 3 (ipykernel)",
   "language": "python",
   "name": "python3"
  },
  "language_info": {
   "codemirror_mode": {
    "name": "ipython",
    "version": 3
   },
   "file_extension": ".py",
   "mimetype": "text/x-python",
   "name": "python",
   "nbconvert_exporter": "python",
   "pygments_lexer": "ipython3",
   "version": "3.8.12"
  }
 },
 "nbformat": 4,
 "nbformat_minor": 5
}
